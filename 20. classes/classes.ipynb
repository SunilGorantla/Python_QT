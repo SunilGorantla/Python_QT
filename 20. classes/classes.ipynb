{
 "cells": [
  {
   "cell_type": "markdown",
   "metadata": {},
   "source": [
    "### 1. Encapsulation\n",
    "Encapsulation is the concept of bundling the data (attributes) and methods (functions) that operate on the data into a single unit or class. It restricts direct access to some of the object’s components, which can prevent the accidental modification of data."
   ]
  },
  {
   "cell_type": "code",
   "execution_count": null,
   "metadata": {},
   "outputs": [],
   "source": [
    "class Person:\n",
    "    def __init__(self, name, age):\n",
    "        self.__name = name  # Private attribute\n",
    "        self.__age = age    # Private attribute\n",
    "\n",
    "    def get_name(self):\n",
    "        return self.__name\n",
    "\n",
    "    def get_age(self):\n",
    "        return self.__age\n",
    "\n",
    "    def set_age(self, age):\n",
    "        if age > 0:\n",
    "            self.__age = age\n",
    "\n",
    "# Create an instance of Person\n",
    "person = Person(\"Alice\", 30)\n",
    "\n",
    "# Access data through methods\n",
    "print(person.get_name())  # Output: Alice\n",
    "print(person.get_age())   # Output: 30\n",
    "\n",
    "# Direct access to private attributes is not allowed\n",
    "# print(person.__name)  # This will raise an AttributeError"
   ]
  },
  {
   "cell_type": "markdown",
   "metadata": {},
   "source": [
    "### 2. Abstraction\n",
    "Abstraction means hiding the complex implementation details and showing only the necessary features of an object. It simplifies the interaction with objects by exposing a limited and straightforward interface."
   ]
  },
  {
   "cell_type": "code",
   "execution_count": null,
   "metadata": {},
   "outputs": [],
   "source": [
    "from abc import ABC, abstractmethod\n",
    "\n",
    "class Shape(ABC):\n",
    "    @abstractmethod\n",
    "    def area(self):\n",
    "        pass\n",
    "\n",
    "class Rectangle(Shape):\n",
    "    def __init__(self, width, height):\n",
    "        self.width = width\n",
    "        self.height = height\n",
    "\n",
    "    def area(self):\n",
    "        return self.width * self.height\n",
    "\n",
    "# Create an instance of Rectangle\n",
    "rect = Rectangle(5, 10)\n",
    "\n",
    "# Call the area method\n",
    "print(rect.area())  # Output: 50\n"
   ]
  },
  {
   "cell_type": "markdown",
   "metadata": {},
   "source": [
    "### 3. Inheritance\n",
    "Inheritance is a mechanism where a new class (child or subclass) inherits attributes and methods from an existing class (parent or superclass). This promotes code reuse and establishes a natural hierarchy."
   ]
  },
  {
   "cell_type": "code",
   "execution_count": null,
   "metadata": {},
   "outputs": [],
   "source": [
    "class Animal:\n",
    "    def __init__(self, name):\n",
    "        self.name = name\n",
    "\n",
    "    def speak(self):\n",
    "        raise NotImplementedError(\"Subclass must implement this method\")\n",
    "\n",
    "class Dog(Animal):\n",
    "    def speak(self):\n",
    "        return \"Woof!\"\n",
    "\n",
    "# Create an instance of Dog\n",
    "dog = Dog(\"Buddy\")\n",
    "\n",
    "# Call the speak method\n",
    "print(dog.speak())  # Output: Woof!\n"
   ]
  },
  {
   "cell_type": "markdown",
   "metadata": {},
   "source": [
    "### 4. Polymorphism\n",
    "Polymorphism allows objects of different classes to be treated as objects of a common superclass. It enables the same operation to behave differently on different classes.\n",
    "\n"
   ]
  },
  {
   "cell_type": "code",
   "execution_count": null,
   "metadata": {},
   "outputs": [],
   "source": [
    "class Animal:\n",
    "    def speak(self):\n",
    "        pass\n",
    "\n",
    "class Dog(Animal):\n",
    "    def speak(self):\n",
    "        return \"Woof!\"\n",
    "\n",
    "class Cat(Animal):\n",
    "    def speak(self):\n",
    "        return \"Meow!\"\n",
    "\n",
    "# Create instances of Dog and Cat\n",
    "animals = [Dog(), Cat()]\n",
    "\n",
    "# Iterate through the list and call the speak method\n",
    "for animal in animals:\n",
    "    print(animal.speak())\n",
    "# Output:\n",
    "# Woof!\n",
    "# Meow!"
   ]
  },
  {
   "cell_type": "code",
   "execution_count": null,
   "metadata": {},
   "outputs": [],
   "source": []
  }
 ],
 "metadata": {
  "language_info": {
   "name": "python"
  }
 },
 "nbformat": 4,
 "nbformat_minor": 2
}
