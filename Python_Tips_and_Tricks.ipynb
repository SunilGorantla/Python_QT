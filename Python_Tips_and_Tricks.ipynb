{
  "cells": [
    {
      "attachments": {},
      "cell_type": "markdown",
      "metadata": {
        "id": "EXgCh68gbzMq"
      },
      "source": [
        "#**Python Tips and Tricks**"
      ]
    },
    {
      "attachments": {},
      "cell_type": "markdown",
      "metadata": {
        "id": "WLJ_moXTcC4k"
      },
      "source": [
        "#The Input() Statement"
      ]
    },
    {
      "cell_type": "code",
      "execution_count": null,
      "metadata": {
        "colab": {
          "base_uri": "https://localhost:8080/"
        },
        "id": "i-GVTbIruV8P",
        "outputId": "2a4cabfb-732d-4451-ac5f-71244b65776c"
      },
      "outputs": [
        {
          "name": "stdout",
          "output_type": "stream",
          "text": [
            "Enter a number1000000\n",
            "You entered:  1000000\n"
          ]
        }
      ],
      "source": [
        "number = input('Enter a number')\n",
        "print('You entered: ',number)"
      ]
    },
    {
      "attachments": {},
      "cell_type": "markdown",
      "metadata": {
        "id": "xgVbyNwFcYPN"
      },
      "source": [
        "Accept multiple inputs:"
      ]
    },
    {
      "cell_type": "code",
      "execution_count": null,
      "metadata": {
        "colab": {
          "base_uri": "https://localhost:8080/"
        },
        "id": "uQKh2Jl5ubni",
        "outputId": "79032638-e3dd-4e28-9017-3d2b8f0476a6"
      },
      "outputs": [
        {
          "name": "stdout",
          "output_type": "stream",
          "text": [
            "Enter 3 numbers separated with space2 6 8\n",
            "You entered:  2 6 8\n"
          ]
        }
      ],
      "source": [
        "num1,num2,num3 = input('Enter 3 numbers separated with space').split(' ')\n",
        "print('You entered: ',num1,num2,num3)"
      ]
    },
    {
      "attachments": {},
      "cell_type": "markdown",
      "metadata": {
        "id": "DE_tVEAsefgF"
      },
      "source": [
        "#Multiple Conditional Statements"
      ]
    },
    {
      "cell_type": "code",
      "execution_count": null,
      "metadata": {
        "colab": {
          "base_uri": "https://localhost:8080/"
        },
        "id": "ZeDYLg8Bc238",
        "outputId": "2560c318-3ad9-48f4-e3c4-8f900f3ba9a5"
      },
      "outputs": [
        {
          "name": "stdout",
          "output_type": "stream",
          "text": [
            "We are good to go !!\n"
          ]
        }
      ],
      "source": [
        "a = 3000\n",
        "b = 2000\n",
        "c = 500\n",
        "\n",
        "if a > b and b > c and c > 100:\n",
        "  print('We are good to go !!')\n",
        "else:\n",
        "  print('hmmmmm something went wrong please check the condition again')"
      ]
    },
    {
      "attachments": {},
      "cell_type": "markdown",
      "metadata": {
        "id": "wIRRCKYxfUa0"
      },
      "source": [
        "What if we have too many conditions to check?"
      ]
    },
    {
      "cell_type": "code",
      "execution_count": null,
      "metadata": {
        "colab": {
          "base_uri": "https://localhost:8080/"
        },
        "id": "kH-4WdmZfCyR",
        "outputId": "cad96f68-cdf7-4708-ba9c-fe8d381bfc13"
      },
      "outputs": [
        {
          "name": "stdout",
          "output_type": "stream",
          "text": [
            "We are good to go !!\n"
          ]
        }
      ],
      "source": [
        "a = 3000\n",
        "b = 2000\n",
        "c = 500\n",
        "\n",
        "conditions=[a > b,b > c,c > 100]\n",
        "\n",
        "if all(conditions) :\n",
        "  print('We are good to go !!')\n",
        "else:\n",
        "  print('hmmmmm something went wrong please check the condition again')"
      ]
    },
    {
      "cell_type": "code",
      "execution_count": null,
      "metadata": {
        "id": "u_stPWF9gXZU"
      },
      "outputs": [],
      "source": []
    },
    {
      "attachments": {},
      "cell_type": "markdown",
      "metadata": {
        "id": "IsmdwIR3hFt6"
      },
      "source": [
        "# Swapping Numbers"
      ]
    },
    {
      "cell_type": "code",
      "execution_count": null,
      "metadata": {
        "colab": {
          "base_uri": "https://localhost:8080/"
        },
        "id": "EDh0fY93fpob",
        "outputId": "f5bcf39e-5ddb-4ad7-cfde-df2f520b3a78"
      },
      "outputs": [
        {
          "name": "stdout",
          "output_type": "stream",
          "text": [
            "Value of a :  20 \n",
            "Value of b:  10\n"
          ]
        }
      ],
      "source": [
        "a = 10\n",
        "b = 20\n",
        "\n",
        "temp = a\n",
        "a = b\n",
        "b = temp\n",
        "print('Value of a : ',a,'\\nValue of b: ',b)"
      ]
    },
    {
      "cell_type": "code",
      "execution_count": null,
      "metadata": {
        "colab": {
          "base_uri": "https://localhost:8080/"
        },
        "id": "rZNfFsDDhnhp",
        "outputId": "36649e67-fb38-4b9b-eb1b-91c921e6c7f4"
      },
      "outputs": [
        {
          "name": "stdout",
          "output_type": "stream",
          "text": [
            "Value of a :  20 \n",
            "Value of b:  10\n"
          ]
        }
      ],
      "source": [
        "a = 10\n",
        "b = 20\n",
        "\n",
        "a,b = b,a\n",
        "print('Value of a : ',a,'\\nValue of b: ',b)"
      ]
    },
    {
      "cell_type": "code",
      "execution_count": null,
      "metadata": {
        "id": "_PuG_q5VWKgw"
      },
      "outputs": [],
      "source": []
    },
    {
      "attachments": {},
      "cell_type": "markdown",
      "metadata": {
        "id": "VILnHoxtiamN"
      },
      "source": [
        "#Selecting unique items from a list"
      ]
    },
    {
      "cell_type": "code",
      "execution_count": null,
      "metadata": {
        "colab": {
          "base_uri": "https://localhost:8080/"
        },
        "id": "b-tYjQ93h4sp",
        "outputId": "8bf97685-4482-434c-aaf4-8ce3a232113b"
      },
      "outputs": [
        {
          "name": "stdout",
          "output_type": "stream",
          "text": [
            "Before:  [1, 2, 3, 5, 6, 7, 8, 3, 1, 1, 5, 6, 10]\n",
            "After:  [1, 2, 3, 5, 6, 7, 8, 10]\n"
          ]
        }
      ],
      "source": [
        "a = [1,2,3,5,6,7,8,3,1,1,5,6,10]\n",
        "print('Before: ',a)\n",
        "new_a=list(set(a))\n",
        "print('After: ',new_a)"
      ]
    },
    {
      "cell_type": "code",
      "execution_count": null,
      "metadata": {
        "id": "JQSRx2w0iqLR"
      },
      "outputs": [],
      "source": []
    },
    {
      "attachments": {},
      "cell_type": "markdown",
      "metadata": {
        "id": "BkQn3FlFkPff"
      },
      "source": [
        "We can also get the item that repeated most in the list"
      ]
    },
    {
      "cell_type": "code",
      "execution_count": null,
      "metadata": {
        "colab": {
          "base_uri": "https://localhost:8080/"
        },
        "id": "eN1XuhNAj1Zz",
        "outputId": "4503debe-df02-42d7-e400-960433e812b7"
      },
      "outputs": [
        {
          "name": "stdout",
          "output_type": "stream",
          "text": [
            "Before:  ['Bright', 'Simran', 'Chris', 'Sanjay', 'Chris', 'Bright', 'Bright']\n",
            "After:  ['Simran', 'Chris', 'Sanjay', 'Bright']\n"
          ]
        }
      ],
      "source": [
        "names = ['Bright','Simran','Chris','Sanjay','Chris','Bright','Bright']\n",
        "\n",
        "print('Before: ',names)\n",
        "new_names=list(set(names))\n",
        "print('After: ',new_names)"
      ]
    },
    {
      "cell_type": "code",
      "execution_count": null,
      "metadata": {
        "colab": {
          "base_uri": "https://localhost:8080/"
        },
        "id": "uyUtqHWcXma9",
        "outputId": "e354f105-a7b5-4ab2-bd34-f582328f18d2"
      },
      "outputs": [
        {
          "name": "stdout",
          "output_type": "stream",
          "text": [
            "Before:  ['Bright', 'Simran', 'Chris', 'Sanjay', 'Chris', 'Bright', 'Bright']\n",
            "The name that appears the most is:  Bright\n"
          ]
        }
      ],
      "source": [
        "names = ['Bright','Simran','Chris','Sanjay','Chris','Bright','Bright']\n",
        "\n",
        "print('Before: ',names)\n",
        "new_names=max(set(names),key = names.count)\n",
        "print('The name that appears the most is: ',new_names)"
      ]
    },
    {
      "attachments": {},
      "cell_type": "markdown",
      "metadata": {
        "id": "nqEsyYE3mvGj"
      },
      "source": [
        "#Working with Large and hard to read numbers"
      ]
    },
    {
      "cell_type": "code",
      "execution_count": null,
      "metadata": {
        "colab": {
          "base_uri": "https://localhost:8080/"
        },
        "id": "jnrSHC6Lk-M-",
        "outputId": "4b2260dc-d7e2-4bc8-e1c5-200875b93007"
      },
      "outputs": [
        {
          "name": "stdout",
          "output_type": "stream",
          "text": [
            "242,256,880,979\n"
          ]
        }
      ],
      "source": [
        "a = 234_378_688_088\n",
        "b = 7_878_192_891\n",
        "\n",
        "c = a + b\n",
        "print(f'{c:,}')"
      ]
    },
    {
      "attachments": {},
      "cell_type": "markdown",
      "metadata": {
        "id": "KmC2XbGhowqA"
      },
      "source": [
        "#Keeping counts of items"
      ]
    },
    {
      "cell_type": "code",
      "execution_count": null,
      "metadata": {
        "colab": {
          "base_uri": "https://localhost:8080/"
        },
        "id": "8FwyA-WinNNp",
        "outputId": "471cf8cc-a1b1-4b2c-a30a-8307e5615d1c"
      },
      "outputs": [
        {
          "name": "stdout",
          "output_type": "stream",
          "text": [
            "Bright\n",
            "Simran\n",
            "Chris\n",
            "Sanjay\n",
            "Chris\n",
            "Bright\n",
            "Bright\n"
          ]
        }
      ],
      "source": [
        "names = ['Bright','Simran','Chris','Sanjay','Chris','Bright','Bright']\n",
        "\n",
        "for i in names:\n",
        "  print(i)"
      ]
    },
    {
      "attachments": {},
      "cell_type": "markdown",
      "metadata": {
        "id": "JjECccyRph0w"
      },
      "source": [
        "**Approach 1: the common way**"
      ]
    },
    {
      "cell_type": "code",
      "execution_count": null,
      "metadata": {
        "colab": {
          "base_uri": "https://localhost:8080/"
        },
        "id": "eYDc3hu8o6-x",
        "outputId": "afcdd1a2-a3bc-4c85-cbda-d6adb3207663"
      },
      "outputs": [
        {
          "name": "stdout",
          "output_type": "stream",
          "text": [
            "0 Bright\n",
            "1 Simran\n",
            "2 Chris\n",
            "3 Sanjay\n",
            "4 Chris\n",
            "5 Bright\n",
            "6 Bright\n"
          ]
        }
      ],
      "source": [
        "names = ['Bright','Simran','Chris','Sanjay','Chris','Bright','Bright']\n",
        "\n",
        "\n",
        "index = 0\n",
        "for name in names:\n",
        "  print(index,name)\n",
        "  index +=1"
      ]
    },
    {
      "attachments": {},
      "cell_type": "markdown",
      "metadata": {
        "id": "joZux3k8pcag"
      },
      "source": [
        "**Approach 2: Using Enumerate**"
      ]
    },
    {
      "cell_type": "code",
      "execution_count": null,
      "metadata": {
        "colab": {
          "base_uri": "https://localhost:8080/"
        },
        "id": "dXgBpLCUpS71",
        "outputId": "ecd44bc3-dc2f-49e2-9168-91babb1cfb77"
      },
      "outputs": [
        {
          "name": "stdout",
          "output_type": "stream",
          "text": [
            "1 Bright\n",
            "2 Simran\n",
            "3 Chris\n",
            "4 Sanjay\n",
            "5 Chris\n",
            "6 Bright\n",
            "7 Bright\n"
          ]
        }
      ],
      "source": [
        "names = ['Bright','Simran','Chris','Sanjay','Chris','Bright','Bright']\n",
        "\n",
        "for index, name in enumerate(names,start = 1):\n",
        "  print(index,name)"
      ]
    },
    {
      "attachments": {},
      "cell_type": "markdown",
      "metadata": {
        "id": "5MQskgpqqj1s"
      },
      "source": [
        "#Looping through two or more list at a time"
      ]
    },
    {
      "attachments": {},
      "cell_type": "markdown",
      "metadata": {
        "id": "qcmxbW2nrCT8"
      },
      "source": [
        "**Approach 1: the common way**"
      ]
    },
    {
      "cell_type": "code",
      "execution_count": null,
      "metadata": {
        "colab": {
          "base_uri": "https://localhost:8080/"
        },
        "id": "8SfdXHP1p5Qk",
        "outputId": "2beab30d-39f1-43da-e580-46ca89261994"
      },
      "outputs": [
        {
          "name": "stdout",
          "output_type": "stream",
          "text": [
            "Bright is a Data Scientist\n",
            "Simran is a Software Engineer\n",
            "Chris is a Psychologist\n",
            "Sanjay is a Python Programmer\n"
          ]
        }
      ],
      "source": [
        "names = ['Bright','Simran','Chris','Sanjay']\n",
        "jobs = ['Data Scientist','Software Engineer','Psychologist','Python Programmer']\n",
        "\n",
        "\n",
        "for index, name in enumerate(names):\n",
        "  job=jobs[index]\n",
        "  print(f'{name} is a {job}')"
      ]
    },
    {
      "attachments": {},
      "cell_type": "markdown",
      "metadata": {
        "id": "z3Ci6kDIumGr"
      },
      "source": [
        "**Approach 2: Using Zip()**"
      ]
    },
    {
      "cell_type": "code",
      "execution_count": null,
      "metadata": {
        "colab": {
          "base_uri": "https://localhost:8080/"
        },
        "id": "JOahIzNprdi1",
        "outputId": "3f5c3d7c-03a3-4bbe-bea3-b664ebe8e4d9"
      },
      "outputs": [
        {
          "name": "stdout",
          "output_type": "stream",
          "text": [
            "Bright is a Data Scientist\n",
            "Simran is a Software Engineer\n",
            "Chris is a Psychologist\n",
            "Sanjay is a Python Programmer\n"
          ]
        }
      ],
      "source": [
        "names = ['Bright','Simran','Chris','Sanjay']\n",
        "jobs = ['Data Scientist','Software Engineer','Psychologist','Python Programmer']\n",
        "\n",
        "for name, job in zip(names,jobs):\n",
        "  print(f'{name} is a {job}')"
      ]
    },
    {
      "attachments": {},
      "cell_type": "markdown",
      "metadata": {
        "id": "5eW6XeHLvcoe"
      },
      "source": [
        "We can even iterate through more lists"
      ]
    },
    {
      "cell_type": "code",
      "execution_count": null,
      "metadata": {
        "colab": {
          "base_uri": "https://localhost:8080/"
        },
        "id": "rYhNkREDvGuC",
        "outputId": "e27299f3-2627-43cc-e755-132c49fdc8d9"
      },
      "outputs": [
        {
          "name": "stdout",
          "output_type": "stream",
          "text": [
            "Bright is a Data Scientist working at Amazon\n",
            "Simran is a Software Engineer working at Google\n",
            "Chris is a Psychologist working at Microsoft\n",
            "Sanjay is a Python Programmer working at Tesla\n"
          ]
        }
      ],
      "source": [
        "names = ['Bright','Simran','Chris','Sanjay']\n",
        "jobs = ['Data Scientist','Software Engineer','Psychologist','Python Programmer']\n",
        "companies = ['Amazon','Google','Microsoft','Tesla']\n",
        "for name, job, company in zip(names,jobs,companies):\n",
        "  print(f'{name} is a {job} working at {company}')"
      ]
    },
    {
      "attachments": {},
      "cell_type": "markdown",
      "metadata": {
        "id": "FjAL0mb9we2o"
      },
      "source": [
        "#**Unpacking** Values"
      ]
    },
    {
      "cell_type": "code",
      "execution_count": null,
      "metadata": {
        "colab": {
          "base_uri": "https://localhost:8080/"
        },
        "id": "KWuxS-rPv44u",
        "outputId": "45f28347-0cc0-43f1-bfd7-05163fa9540f"
      },
      "outputs": [
        {
          "name": "stdout",
          "output_type": "stream",
          "text": [
            "(10, 20)\n"
          ]
        }
      ],
      "source": [
        "a = (10,20)\n",
        "\n",
        "print(a)"
      ]
    },
    {
      "cell_type": "code",
      "execution_count": null,
      "metadata": {
        "colab": {
          "base_uri": "https://localhost:8080/"
        },
        "id": "pehdvQB9ws3p",
        "outputId": "8bdf4b47-3e0d-4e1c-f5cc-ee9de8210f00"
      },
      "outputs": [
        {
          "name": "stdout",
          "output_type": "stream",
          "text": [
            "10\n"
          ]
        }
      ],
      "source": [
        "a,b = (10,20)\n",
        "\n",
        "print(a)\n",
        "# print(b)"
      ]
    },
    {
      "cell_type": "code",
      "execution_count": null,
      "metadata": {
        "colab": {
          "base_uri": "https://localhost:8080/"
        },
        "id": "kDwHjAVpwyCv",
        "outputId": "e39a46f8-eb29-4706-b80f-89a26f1a9647"
      },
      "outputs": [
        {
          "name": "stdout",
          "output_type": "stream",
          "text": [
            "10\n",
            "20\n",
            "[30, 4, 6, 7, 8]\n"
          ]
        }
      ],
      "source": [
        "a,b,*c = (10,20,30,4,6,7,8)\n",
        "\n",
        "print(a)\n",
        "print(b)\n",
        "print(c)"
      ]
    },
    {
      "cell_type": "code",
      "execution_count": null,
      "metadata": {
        "id": "Lc9aS7a-xeon"
      },
      "outputs": [],
      "source": []
    },
    {
      "cell_type": "code",
      "execution_count": null,
      "metadata": {
        "id": "ix5oRnuxxlBv"
      },
      "outputs": [],
      "source": []
    },
    {
      "cell_type": "code",
      "execution_count": null,
      "metadata": {
        "id": "BSKnEBugxsAg"
      },
      "outputs": [],
      "source": []
    },
    {
      "attachments": {},
      "cell_type": "markdown",
      "metadata": {
        "id": "ymXwFZAa0P4y"
      },
      "source": [
        "#**Hidding your password**"
      ]
    },
    {
      "attachments": {},
      "cell_type": "markdown",
      "metadata": {
        "id": "uSKZl7260VoQ"
      },
      "source": [
        "Head on to Sublime text and terminal for demo"
      ]
    }
  ],
  "metadata": {
    "colab": {
      "provenance": [],
      "toc_visible": true
    },
    "kernelspec": {
      "display_name": "Python 3",
      "name": "python3"
    }
  },
  "nbformat": 4,
  "nbformat_minor": 0
}
